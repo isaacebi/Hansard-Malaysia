{
 "cells": [
  {
   "cell_type": "code",
   "execution_count": 1,
   "metadata": {},
   "outputs": [],
   "source": [
    "import os\n",
    "import numpy as np\n",
    "import pandas as pd\n",
    "import pathlib\n",
    "import re\n",
    "import threading"
   ]
  },
  {
   "cell_type": "code",
   "execution_count": 2,
   "metadata": {},
   "outputs": [],
   "source": [
    "# # helper function\n",
    "# def spaceDash(text):\n",
    "#     storeKey = re.findall('( \\-\\w+)', text)\n",
    "#     for match in storeKey:\n",
    "#         text = re.sub(match, match.strip(), text)\n",
    "#     return text"
   ]
  },
  {
   "cell_type": "code",
   "execution_count": 3,
   "metadata": {},
   "outputs": [],
   "source": [
    "# helper function\n",
    "def spaceDash(text):\n",
    "    storeKey = re.findall('( \\-\\w+)', text)\n",
    "    for match in storeKey:\n",
    "        text = re.sub(match, match.strip(), text)\n",
    "    return text\n",
    "    "
   ]
  },
  {
   "cell_type": "code",
   "execution_count": 4,
   "metadata": {},
   "outputs": [],
   "source": [
    "# pathing\n",
    "PARENT_PATH = os.path.abspath(os.path.join(os.getcwd(), os.pardir))\n",
    "DATA_PATH = os.path.join(PARENT_PATH, 'data')\n",
    "PDF = os.path.join(DATA_PATH, 'PDF')\n",
    "TEXT = os.path.join(DATA_PATH, 'TEXT')\n",
    "COMPILE_TEXT = os.path.join(TEXT, 'compile.txt')\n",
    "DIALOG = os.path.join(TEXT, 'compileDialog.txt')"
   ]
  },
  {
   "cell_type": "code",
   "execution_count": 5,
   "metadata": {},
   "outputs": [],
   "source": [
    "# for python 3.5 or later\n",
    "txt = pathlib.Path(COMPILE_TEXT).read_text(encoding='utf-8')"
   ]
  },
  {
   "cell_type": "code",
   "execution_count": 6,
   "metadata": {},
   "outputs": [],
   "source": [
    "# remove extra inline\n",
    "txt = txt.replace('\\n', '')\n",
    "\n",
    "# remove extra space\n",
    "txt = \" \".join(txt.split())\n",
    "\n",
    "# marker stop page\n",
    "txt = txt.replace('PENERANGAN DARIPADA MENTERI -MENTERI', 'pageStop')\n",
    "\n",
    "# marker start page\n",
    "txt = re.sub('(Bil. \\d)', 'pageStart', txt)\n",
    "\n",
    "# remove marked page\n",
    "txt = re.sub('pageStart.+?pageStop', '', txt)"
   ]
  },
  {
   "cell_type": "code",
   "execution_count": 7,
   "metadata": {},
   "outputs": [],
   "source": [
    "# remove space + dash O(regexMatch) compute time\n",
    "txt = spaceDash(txt)"
   ]
  },
  {
   "cell_type": "code",
   "execution_count": 8,
   "metadata": {},
   "outputs": [],
   "source": [
    "# check point\n",
    "with open(DIALOG, 'w', encoding='utf-8') as f:\n",
    "    f.write(txt)"
   ]
  },
  {
   "cell_type": "code",
   "execution_count": null,
   "metadata": {},
   "outputs": [],
   "source": []
  }
 ],
 "metadata": {
  "kernelspec": {
   "display_name": "Python 3.10.6 ('base')",
   "language": "python",
   "name": "python3"
  },
  "language_info": {
   "codemirror_mode": {
    "name": "ipython",
    "version": 3
   },
   "file_extension": ".py",
   "mimetype": "text/x-python",
   "name": "python",
   "nbconvert_exporter": "python",
   "pygments_lexer": "ipython3",
   "version": "3.10.6"
  },
  "orig_nbformat": 4,
  "vscode": {
   "interpreter": {
    "hash": "867d73edd1de623093551910352d494977a70840e1e34e67ca526b524d5da070"
   }
  }
 },
 "nbformat": 4,
 "nbformat_minor": 2
}
